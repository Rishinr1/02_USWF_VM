{
 "cells": [
  {
   "cell_type": "code",
   "execution_count": 22,
   "metadata": {},
   "outputs": [],
   "source": [
    "import pandas as pd\n",
    "import os"
   ]
  },
  {
   "cell_type": "code",
   "execution_count": 23,
   "metadata": {},
   "outputs": [],
   "source": [
    "import pandas as pd\n",
    "import os\n",
    "\n",
    "# Set your folder paths\n",
    "input_folder_path = r\"D:\\RISHIN\\01_50m\\out_csv_new\"\n",
    "output_folder_path = r'D:\\RISHIN\\01_50m\\validate\\output'\n",
    "\n",
    "\n"
   ]
  },
  {
   "cell_type": "code",
   "execution_count": 24,
   "metadata": {},
   "outputs": [],
   "source": [
    "import dask.dataframe as dd\n",
    "import os\n",
    "\n"
   ]
  },
  {
   "cell_type": "code",
   "execution_count": 25,
   "metadata": {},
   "outputs": [],
   "source": [
    "# Columns to process\n",
    "columns_to_convert = ['POSTCODE', 'Admin_1', 'Admin_2']\n",
    "\n",
    "# Loop through each CSV file in the input folder\n",
    "for filename in os.listdir(input_folder_path):\n",
    "    if filename.endswith('.csv'):\n",
    "        input_file_path = os.path.join(input_folder_path, filename)\n",
    "        \n",
    "        # Read the CSV file with Dask, treating all columns as object type for flexibility\n",
    "        df = dd.read_csv(input_file_path, dtype='object', assume_missing=True)\n",
    "        \n",
    "        # Convert the specified columns to remove decimal values if they exist in the file\n",
    "        for col in columns_to_convert:\n",
    "            if col in df.columns:\n",
    "                df[col] = df[col].fillna(-1).astype(float).astype('int').astype(str).replace('-1', '')\n",
    "        \n",
    "        # Define the output file path\n",
    "        output_file_path = os.path.join(output_folder_path, filename)\n",
    "        \n",
    "        # Save the modified CSV file to the output folder\n",
    "        df.to_csv(output_file_path, single_file=True, index=False)"
   ]
  },
  {
   "cell_type": "code",
   "execution_count": null,
   "metadata": {},
   "outputs": [],
   "source": []
  }
 ],
 "metadata": {
  "kernelspec": {
   "display_name": "Python 3",
   "language": "python",
   "name": "python3"
  },
  "language_info": {
   "codemirror_mode": {
    "name": "ipython",
    "version": 3
   },
   "file_extension": ".py",
   "mimetype": "text/x-python",
   "name": "python",
   "nbconvert_exporter": "python",
   "pygments_lexer": "ipython3",
   "version": "3.11.3"
  }
 },
 "nbformat": 4,
 "nbformat_minor": 2
}
